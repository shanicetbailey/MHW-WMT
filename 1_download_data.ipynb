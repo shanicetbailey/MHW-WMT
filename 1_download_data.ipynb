{
 "cells": [
  {
   "cell_type": "markdown",
   "id": "8808e45c-427a-4ddb-bbb9-2f838980b6c1",
   "metadata": {},
   "source": [
    "# ERA5 - download data\n",
    "From this [website](https://cds.climate.copernicus.eu/cdsapp#!/dataset/reanalysis-era5-pressure-levels?tab=overview). Follow their instructions on how to [install their CDS API](https://cds.climate.copernicus.eu/api-how-to) and then copy/paste the Python \"MARSREQUEST\" code into this notebook to download the relevant variables for your budget in netcdf format."
   ]
  },
  {
   "cell_type": "markdown",
   "id": "ab36e8dd-7a39-43e0-8e58-391ebe69451c",
   "metadata": {},
   "source": [
    "## ORAS5: \n",
    "> https://www.ecmwf.int/en/research/climate-reanalysis/ocean-reanalysis\n",
    "\n",
    "> https://cds.climate.copernicus.eu/cdsapp#!/dataset/reanalysis-oras5?tab=overview"
   ]
  },
  {
   "cell_type": "code",
   "execution_count": 1,
   "id": "fc23a0e8-8c76-410b-b978-d1b9ce4e5f5c",
   "metadata": {
    "tags": []
   },
   "outputs": [],
   "source": [
    "import cdsapi\n",
    "\n",
    "c = cdsapi.Client()"
   ]
  },
  {
   "cell_type": "code",
   "execution_count": 2,
   "id": "84ed9321-5379-4775-b075-0a13a7905635",
   "metadata": {
    "tags": []
   },
   "outputs": [
    {
     "name": "stderr",
     "output_type": "stream",
     "text": [
      "2023-11-20 15:38:22,762 INFO Welcome to the CDS\n",
      "2023-11-20 15:38:22,762 INFO Sending request to https://cds.climate.copernicus.eu/api/v2/resources/reanalysis-oras5\n",
      "2023-11-20 15:38:22,987 INFO Request is queued\n",
      "2023-11-20 15:38:24,116 INFO Request is running\n",
      "2023-11-20 15:42:42,614 INFO Request is completed\n",
      "2023-11-20 15:42:42,615 INFO Downloading https://download-0009-clone.copernicus-climate.eu/cache-compute-0009/cache/data2/dataset-reanalysis-oras5-89427c8b-6de0-456d-8b1f-8394a8f83cbf.zip to pot-temp.zip (1.7G)\n",
      "2023-11-20 15:45:20,732 INFO Download rate 11.3M/s    \n"
     ]
    },
    {
     "data": {
      "text/plain": [
       "Result(content_length=1874123662,content_type=application/zip,location=https://download-0009-clone.copernicus-climate.eu/cache-compute-0009/cache/data2/dataset-reanalysis-oras5-89427c8b-6de0-456d-8b1f-8394a8f83cbf.zip)"
      ]
     },
     "execution_count": 2,
     "metadata": {},
     "output_type": "execute_result"
    }
   ],
   "source": [
    "import cdsapi\n",
    "\n",
    "c = cdsapi.Client()\n",
    "\n",
    "c.retrieve(\n",
    "    'reanalysis-oras5',\n",
    "    {\n",
    "        'format': 'zip',\n",
    "        'vertical_resolution': 'all_levels',\n",
    "        'variable': 'potential_temperature',\n",
    "        'year': '2023',\n",
    "        'month': [\n",
    "            '01', '02', '03',\n",
    "            '04', '05', '06',\n",
    "            '07', '08', '09',\n",
    "            '10',\n",
    "        ],\n",
    "        'product_type': 'operational',\n",
    "    },\n",
    "    'pot-temp.zip')"
   ]
  },
  {
   "cell_type": "code",
   "execution_count": 3,
   "id": "ee348537-cc53-4670-b78f-2201b9730d9f",
   "metadata": {
    "tags": []
   },
   "outputs": [
    {
     "data": {
      "text/plain": [
       "'/home/jovyan/MHW-WMT'"
      ]
     },
     "execution_count": 3,
     "metadata": {},
     "output_type": "execute_result"
    }
   ],
   "source": [
    "pwd"
   ]
  },
  {
   "cell_type": "code",
   "execution_count": 4,
   "id": "26bbdce1-1d57-4e35-9f31-5f3d3a7d8c32",
   "metadata": {
    "tags": []
   },
   "outputs": [
    {
     "name": "stdout",
     "output_type": "stream",
     "text": [
      "Archive:  /home/jovyan/MHW-WMT/pot-temp.zip\n",
      "  inflating: votemper_control_monthly_highres_3D_202308_OPER_v0.1.nc  \n",
      "  inflating: votemper_control_monthly_highres_3D_202305_OPER_v0.1.nc  \n",
      "  inflating: votemper_control_monthly_highres_3D_202309_OPER_v0.1.nc  \n",
      "  inflating: votemper_control_monthly_highres_3D_202303_OPER_v0.1.nc  \n",
      "  inflating: votemper_control_monthly_highres_3D_202302_OPER_v0.1.nc  \n",
      "  inflating: votemper_control_monthly_highres_3D_202310_OPER_v0.1.nc  \n",
      "  inflating: votemper_control_monthly_highres_3D_202304_OPER_v0.1.nc  \n",
      "  inflating: votemper_control_monthly_highres_3D_202307_OPER_v0.1.nc  \n",
      "  inflating: votemper_control_monthly_highres_3D_202306_OPER_v0.1.nc  \n",
      "  inflating: votemper_control_monthly_highres_3D_202301_OPER_v0.1.nc  \n"
     ]
    }
   ],
   "source": [
    "!unzip '/home/jovyan/MHW-WMT/pot-temp.zip'"
   ]
  },
  {
   "cell_type": "code",
   "execution_count": 3,
   "id": "91cd0da5-bc2f-4b55-b982-399d59f902d1",
   "metadata": {
    "tags": []
   },
   "outputs": [
    {
     "name": "stderr",
     "output_type": "stream",
     "text": [
      "2023-11-17 17:21:11,212 INFO Welcome to the CDS\n",
      "2023-11-17 17:21:11,212 INFO Sending request to https://cds.climate.copernicus.eu/api/v2/resources/reanalysis-era5-single-levels\n",
      "2023-11-17 17:21:11,419 INFO Request is queued\n",
      "2023-11-17 17:21:12,550 INFO Request is running\n",
      "2023-11-17 17:37:35,453 INFO Request is completed\n",
      "2023-11-17 17:37:35,453 INFO Downloading https://download-0014-clone.copernicus-climate.eu/cache-compute-0014/cache/data1/adaptor.mars.internal-1700242110.04108-5839-7-57106833-2043-40f8-8b9a-4d4248a326f7.nc to precip-2023.nc (29.3G)\n",
      "2023-11-17 18:47:10,302 INFO Download rate 7.2M/s       \n"
     ]
    },
    {
     "data": {
      "text/plain": [
       "Result(content_length=31471171008,content_type=application/x-netcdf,location=https://download-0014-clone.copernicus-climate.eu/cache-compute-0014/cache/data1/adaptor.mars.internal-1700242110.04108-5839-7-57106833-2043-40f8-8b9a-4d4248a326f7.nc)"
      ]
     },
     "execution_count": 3,
     "metadata": {},
     "output_type": "execute_result"
    }
   ],
   "source": [
    "c.retrieve(\n",
    "    'reanalysis-era5-single-levels',\n",
    "    {\n",
    "        'product_type': 'reanalysis',\n",
    "        'variable': [\n",
    "            'total_precipitation', \n",
    "        ],\n",
    "        'year': ['2023'],\n",
    "        'month': [\n",
    "            '01', '02', '03',\n",
    "            '04', '05', '06',\n",
    "            '07', '08', '09',\n",
    "            '10', '11', '12',\n",
    "        ],\n",
    "        'day': [\n",
    "            '01', '02', '03',\n",
    "            '04', '05', '06',\n",
    "            '07', '08', '09',\n",
    "            '10', '11', '12',\n",
    "            '13', '14', '15',\n",
    "            '16', '17', '18',\n",
    "            '19', '20', '21',\n",
    "            '22', '23', '24',\n",
    "            '25', '26', '27',\n",
    "            '28', '29', '30',\n",
    "            '31',\n",
    "        ],\n",
    "        'time': [\n",
    "            '00:00', '01:00', '02:00',\n",
    "            '03:00', '04:00', '05:00',\n",
    "            '06:00', '07:00', '08:00',\n",
    "            '09:00', '10:00', '11:00',\n",
    "            '12:00', '13:00', '14:00',\n",
    "            '15:00', '16:00', '17:00',\n",
    "            '18:00', '19:00', '20:00',\n",
    "            '21:00', '22:00', '23:00',\n",
    "        ],\n",
    "        'format': 'netcdf',\n",
    "    },\n",
    "    'precip-2023.nc')"
   ]
  },
  {
   "cell_type": "code",
   "execution_count": 3,
   "id": "0611f717-a663-4017-b73b-ab8b7bd1d692",
   "metadata": {
    "tags": []
   },
   "outputs": [
    {
     "name": "stdout",
     "output_type": "stream",
     "text": [
      "starting runoff download\n"
     ]
    },
    {
     "name": "stderr",
     "output_type": "stream",
     "text": [
      "2023-10-11 10:54:01,623 INFO Welcome to the CDS\n",
      "2023-10-11 10:54:01,624 INFO Sending request to https://cds.climate.copernicus.eu/api/v2/resources/reanalysis-era5-single-levels\n",
      "2023-10-11 10:54:01,923 INFO Request is queued\n",
      "2023-10-11 11:02:22,907 INFO Request is running\n",
      "2023-10-11 11:06:24,442 INFO Request is completed\n",
      "2023-10-11 11:06:24,443 INFO Downloading https://download-0018.copernicus-climate.eu/cache-compute-0018/cache/data6/adaptor.mars.internal-1697022201.721435-31617-16-073c0b92-f60f-47a6-bdaf-ec4530043e11.nc to 2022_winter_runoff.nc (4.3G)\n",
      "2023-10-11 11:15:18,653 INFO Download rate 8.2M/s      \n",
      "2023-10-11 11:15:19,382 INFO Welcome to the CDS\n",
      "2023-10-11 11:15:19,383 INFO Sending request to https://cds.climate.copernicus.eu/api/v2/resources/reanalysis-era5-single-levels\n"
     ]
    },
    {
     "name": "stdout",
     "output_type": "stream",
     "text": [
      "starting surface_runoff download\n"
     ]
    },
    {
     "name": "stderr",
     "output_type": "stream",
     "text": [
      "2023-10-11 11:15:19,556 INFO Request is queued\n",
      "2023-10-11 11:23:40,594 INFO Request is running\n",
      "2023-10-11 11:29:42,526 INFO Request is completed\n",
      "2023-10-11 11:29:42,527 INFO Downloading https://download-0002-clone.copernicus-climate.eu/cache-compute-0002/cache/data3/adaptor.mars.internal-1697023500.7263615-16061-7-643dfd50-c5f5-4d23-867f-b7d54b242596.nc to 2022_winter_surface_runoff.nc (4.3G)\n",
      "2023-10-11 12:07:14,081 INFO Download rate 1.9M/s      \n",
      "2023-10-11 12:07:14,799 INFO Welcome to the CDS\n",
      "2023-10-11 12:07:14,800 INFO Sending request to https://cds.climate.copernicus.eu/api/v2/resources/reanalysis-era5-single-levels\n"
     ]
    },
    {
     "name": "stdout",
     "output_type": "stream",
     "text": [
      "starting sea_surface_temperature download\n"
     ]
    },
    {
     "name": "stderr",
     "output_type": "stream",
     "text": [
      "2023-10-11 12:07:15,070 INFO Request is queued\n",
      "2023-10-11 12:10:07,574 INFO Request is running\n",
      "2023-10-11 12:15:36,086 INFO Request is completed\n",
      "2023-10-11 12:15:36,086 INFO Downloading https://download-0008-clone.copernicus-climate.eu/cache-compute-0008/cache/data2/adaptor.mars.internal-1697026277.506086-22861-6-f7b48564-6ef0-45e6-bbb3-67a55c370984.nc to 2022_winter_sea_surface_temperature.nc (4.3G)\n",
      "2023-10-11 12:21:14,000 INFO Download rate 12.9M/s     \n",
      "2023-10-11 12:21:14,739 INFO Welcome to the CDS\n",
      "2023-10-11 12:21:14,740 INFO Sending request to https://cds.climate.copernicus.eu/api/v2/resources/reanalysis-era5-single-levels\n"
     ]
    },
    {
     "name": "stdout",
     "output_type": "stream",
     "text": [
      "starting surface_latent_heat_flux download\n"
     ]
    },
    {
     "name": "stderr",
     "output_type": "stream",
     "text": [
      "2023-10-11 12:21:14,931 INFO Request is queued\n",
      "2023-10-11 12:25:34,627 INFO Request is running\n",
      "2023-10-11 12:29:36,085 INFO Request is completed\n",
      "2023-10-11 12:29:36,086 INFO Downloading https://download-0003-clone.copernicus-climate.eu/cache-compute-0003/cache/data1/adaptor.mars.internal-1697027198.8778963-10293-12-4f76fb2e-4818-44b2-887a-f83c2407ae57.nc to 2022_winter_surface_latent_heat_flux.nc (4.3G)\n",
      "2023-10-11 12:33:49,913 INFO Download rate 17.2M/s     \n",
      "2023-10-11 12:33:50,630 INFO Welcome to the CDS\n",
      "2023-10-11 12:33:50,631 INFO Sending request to https://cds.climate.copernicus.eu/api/v2/resources/reanalysis-era5-single-levels\n"
     ]
    },
    {
     "name": "stdout",
     "output_type": "stream",
     "text": [
      "starting surface_net_solar_radiation download\n"
     ]
    },
    {
     "name": "stderr",
     "output_type": "stream",
     "text": [
      "2023-10-11 12:33:50,871 INFO Request is queued\n",
      "2023-10-11 12:36:43,368 INFO Request is running\n",
      "2023-10-11 12:42:11,704 INFO Request is completed\n",
      "2023-10-11 12:42:11,704 INFO Downloading https://download-0006-clone.copernicus-climate.eu/cache-compute-0006/cache/data1/adaptor.mars.internal-1697027927.2623801-16819-7-93589abe-d6c0-47a0-9c6d-ebe19f516171.nc to 2022_winter_surface_net_solar_radiation.nc (4.3G)\n",
      "2023-10-11 12:48:28,754 INFO Download rate 11.6M/s     \n",
      "2023-10-11 12:48:29,483 INFO Welcome to the CDS\n",
      "2023-10-11 12:48:29,483 INFO Sending request to https://cds.climate.copernicus.eu/api/v2/resources/reanalysis-era5-single-levels\n"
     ]
    },
    {
     "name": "stdout",
     "output_type": "stream",
     "text": [
      "starting surface_net_thermal_radiation download\n"
     ]
    },
    {
     "name": "stderr",
     "output_type": "stream",
     "text": [
      "2023-10-11 12:48:29,665 INFO Request is queued\n",
      "2023-10-11 12:54:50,007 INFO Request is running\n",
      "2023-10-11 12:58:51,226 INFO Request is completed\n",
      "2023-10-11 12:58:51,226 INFO Downloading https://download-0003-clone.copernicus-climate.eu/cache-compute-0003/cache/data3/adaptor.mars.internal-1697028920.8168418-24110-6-dd5d126e-976f-4910-a4bd-fa57ad3b4ee1.nc to 2022_winter_surface_net_thermal_radiation.nc (4.3G)\n",
      "2023-10-11 13:07:24,985 INFO Download rate 8.5M/s      \n",
      "2023-10-11 13:07:25,854 INFO Welcome to the CDS\n",
      "2023-10-11 13:07:25,855 INFO Sending request to https://cds.climate.copernicus.eu/api/v2/resources/reanalysis-era5-single-levels\n"
     ]
    },
    {
     "name": "stdout",
     "output_type": "stream",
     "text": [
      "starting surface_sensible_heat_flux download\n"
     ]
    },
    {
     "name": "stderr",
     "output_type": "stream",
     "text": [
      "2023-10-11 13:07:26,016 INFO Request is queued\n",
      "2023-10-11 13:13:46,408 INFO Request is running\n",
      "2023-10-11 13:19:48,336 INFO Request is completed\n",
      "2023-10-11 13:19:48,337 INFO Downloading https://download-0004-clone.copernicus-climate.eu/cache-compute-0004/cache/data6/adaptor.mars.internal-1697030178.0263522-13781-6-ab3895cf-68ae-41d1-b01b-db0215e5504a.nc to 2022_winter_surface_sensible_heat_flux.nc (4.3G)\n",
      "2023-10-11 13:23:51,697 INFO Download rate 18M/s       \n",
      "2023-10-11 13:23:52,414 INFO Welcome to the CDS\n",
      "2023-10-11 13:23:52,414 INFO Sending request to https://cds.climate.copernicus.eu/api/v2/resources/reanalysis-era5-single-levels\n"
     ]
    },
    {
     "name": "stdout",
     "output_type": "stream",
     "text": [
      "starting e download\n"
     ]
    },
    {
     "name": "stderr",
     "output_type": "stream",
     "text": [
      "2023-10-11 13:23:52,616 INFO Request is queued\n",
      "2023-10-11 13:30:13,045 INFO Request is running\n",
      "2023-10-11 13:34:14,409 INFO Request is completed\n",
      "2023-10-11 13:34:14,410 INFO Downloading https://download-0015-clone.copernicus-climate.eu/cache-compute-0015/cache/data5/adaptor.mars.internal-1697031081.1520853-19406-5-325333a1-96dd-4e1a-bcde-fe2a3276c8e8.nc to 2022_winter_e.nc (4.3G)\n",
      "2023-10-11 14:17:26,384 INFO Download rate 1.7M/s      \n"
     ]
    }
   ],
   "source": [
    "var_list = ['runoff', 'surface_runoff', 'sea_surface_temperature', 'surface_latent_heat_flux', \n",
    "            'surface_net_solar_radiation', 'surface_net_thermal_radiation', 'surface_sensible_heat_flux', \n",
    "            'e',]\n",
    "#['sub_surface_runoff', 'surface_solar_radiation_downwards', 'surface_thermal_radiation_downwards',]\n",
    "\n",
    "for i in var_list:\n",
    "    print(f'starting {i} download')\n",
    "    c.retrieve(\n",
    "        'reanalysis-era5-single-levels',\n",
    "        {\n",
    "            'product_type': 'reanalysis',\n",
    "            'variable': [\n",
    "                i, \n",
    "            ],\n",
    "            'year': ['2022'],\n",
    "            'month': [\n",
    "                '10', '11', '12',\n",
    "            ],\n",
    "            'day': [\n",
    "                '01', '02', '03',\n",
    "                '04', '05', '06',\n",
    "                '07', '08', '09',\n",
    "                '10', '11', '12',\n",
    "                '13', '14', '15',\n",
    "                '16', '17', '18',\n",
    "                '19', '20', '21',\n",
    "                '22', '23', '24',\n",
    "                '25', '26', '27',\n",
    "                '28', '29', '30',\n",
    "                '31',\n",
    "            ],\n",
    "            'time': [\n",
    "                '00:00', '01:00', '02:00',\n",
    "                '03:00', '04:00', '05:00',\n",
    "                '06:00', '07:00', '08:00',\n",
    "                '09:00', '10:00', '11:00',\n",
    "                '12:00', '13:00', '14:00',\n",
    "                '15:00', '16:00', '17:00',\n",
    "                '18:00', '19:00', '20:00',\n",
    "                '21:00', '22:00', '23:00',\n",
    "            ],\n",
    "            'format': 'netcdf',\n",
    "        },\n",
    "        f'2022_winter_{i}.nc')"
   ]
  },
  {
   "cell_type": "code",
   "execution_count": null,
   "id": "1d8cafaf-96c6-4204-a394-00c3b2ad6c32",
   "metadata": {},
   "outputs": [],
   "source": [
    "'runoff', 'sub_surface_runoff', 'surface_runoff', 'sea_surface_temperature', 'surface_latent_heat_flux', \n",
    "'surface_net_solar_radiation', 'surface_net_thermal_radiation', 'surface_sensible_heat_flux', \n",
    "'surface_solar_radiation_downwards', 'surface_thermal_radiation_downwards',"
   ]
  },
  {
   "cell_type": "raw",
   "id": "fcaaffac-5167-4b64-96bc-4563fc63034b",
   "metadata": {
    "tags": []
   },
   "source": [
    "c = cdsapi.Client()\n",
    "\n",
    "c.retrieve(\"reanalysis-era5-complete\", {\n",
    "    \"class\": \"ea\",\n",
    "    \"dataset\": \"era5\",\n",
    "    \"date\": \"2023-01-01/to/2023-09-15\",\n",
    "    \"expver\": \"1\",\n",
    "    \"levtype\": \"sfc\",\n",
    "    #\"number\": \"0\",\n",
    "    \"param\": \"8.128/34.128/45.128/146.128/147.128/165.128/166.128/169.128/175.128/176.128/177.128/182.128/205.128/228.128/231.128\",\n",
    "    \"stream\": \"enda\",\n",
    "    \"time\": \"00:00:00/03:00:00/06:00:00/09:00:00/12:00:00/15:00:00/18:00:00/21:00:00\",\n",
    "    \"type\": \"an\"\n",
    "}, \"output\")"
   ]
  },
  {
   "cell_type": "code",
   "execution_count": null,
   "id": "360ee4ca-ae44-4226-827b-9ecd8d21f5d4",
   "metadata": {},
   "outputs": [],
   "source": []
  }
 ],
 "metadata": {
  "kernelspec": {
   "display_name": "Python 3 (ipykernel)",
   "language": "python",
   "name": "python3"
  },
  "language_info": {
   "codemirror_mode": {
    "name": "ipython",
    "version": 3
   },
   "file_extension": ".py",
   "mimetype": "text/x-python",
   "name": "python",
   "nbconvert_exporter": "python",
   "pygments_lexer": "ipython3",
   "version": "3.10.12"
  }
 },
 "nbformat": 4,
 "nbformat_minor": 5
}
