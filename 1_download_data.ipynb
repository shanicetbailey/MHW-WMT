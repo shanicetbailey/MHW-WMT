{
 "cells": [
  {
   "cell_type": "markdown",
   "id": "8808e45c-427a-4ddb-bbb9-2f838980b6c1",
   "metadata": {},
   "source": [
    "# ERA5 - download data\n",
    "From this [website](https://cds.climate.copernicus.eu/cdsapp#!/dataset/reanalysis-era5-pressure-levels?tab=overview). Follow their instructions on how to [install their CDS API](https://cds.climate.copernicus.eu/api-how-to) and then copy/paste the Python \"MARSREQUEST\" code into this notebook to download the relevant variables for your budget in netcdf format."
   ]
  },
  {
   "cell_type": "code",
   "execution_count": 1,
   "id": "fc23a0e8-8c76-410b-b978-d1b9ce4e5f5c",
   "metadata": {
    "tags": []
   },
   "outputs": [],
   "source": [
    "import cdsapi\n",
    "\n",
    "c = cdsapi.Client()"
   ]
  },
  {
   "cell_type": "code",
   "execution_count": null,
   "id": "6f2ca25e-fd5c-476d-9e97-256d200310cb",
   "metadata": {
    "tags": []
   },
   "outputs": [
    {
     "name": "stdout",
     "output_type": "stream",
     "text": [
      "starting surface_sensible_heat_flux download\n"
     ]
    },
    {
     "name": "stderr",
     "output_type": "stream",
     "text": [
      "2023-10-08 23:37:49,497 INFO Welcome to the CDS\n",
      "2023-10-08 23:37:49,498 INFO Sending request to https://cds.climate.copernicus.eu/api/v2/resources/reanalysis-era5-single-levels\n",
      "2023-10-08 23:37:49,718 INFO Request is completed\n",
      "2023-10-08 23:37:49,719 INFO Downloading https://download-0013-clone.copernicus-climate.eu/cache-compute-0013/cache/data0/adaptor.mars.internal-1696708266.546801-9077-5-bed61ee8-33c7-4af0-ad1d-07da0d11b39c.nc to 2021_surface_sensible_heat_flux.nc (12.7G)\n",
      "2023-10-08 23:54:43,410 INFO Download rate 12.8M/s     \n",
      "2023-10-08 23:54:44,073 INFO Welcome to the CDS\n",
      "2023-10-08 23:54:44,074 INFO Sending request to https://cds.climate.copernicus.eu/api/v2/resources/reanalysis-era5-single-levels\n"
     ]
    },
    {
     "name": "stdout",
     "output_type": "stream",
     "text": [
      "starting surface_solar_radiation_downwards download\n"
     ]
    },
    {
     "name": "stderr",
     "output_type": "stream",
     "text": [
      "2023-10-08 23:54:44,334 INFO Downloading https://download-0001-clone.copernicus-climate.eu/cache-compute-0001/cache/data4/adaptor.mars.internal-1696710788.9686418-16743-15-e73b3eb1-068f-448f-b95f-2544a8581e50.nc to 2021_surface_solar_radiation_downwards.nc (12.7G)\n",
      "2023-10-09 00:09:02,324 INFO Download rate 15.1M/s     \n",
      "2023-10-09 00:09:03,062 INFO Welcome to the CDS\n",
      "2023-10-09 00:09:03,063 INFO Sending request to https://cds.climate.copernicus.eu/api/v2/resources/reanalysis-era5-single-levels\n"
     ]
    },
    {
     "name": "stdout",
     "output_type": "stream",
     "text": [
      "starting surface_thermal_radiation_downwards download\n"
     ]
    },
    {
     "name": "stderr",
     "output_type": "stream",
     "text": [
      "2023-10-09 00:09:03,320 INFO Downloading https://download-0018.copernicus-climate.eu/cache-compute-0018/cache/data7/adaptor.mars.internal-1696712945.5191622-3693-3-0cc508e1-0491-4203-933e-04f54ad4d346.nc to 2021_surface_thermal_radiation_downwards.nc (12.7G)\n",
      "2023-10-09 00:21:35,723 INFO Download rate 17.2M/s     \n",
      "2023-10-09 00:21:36,378 INFO Welcome to the CDS\n",
      "2023-10-09 00:21:36,379 INFO Sending request to https://cds.climate.copernicus.eu/api/v2/resources/reanalysis-era5-single-levels\n"
     ]
    },
    {
     "name": "stdout",
     "output_type": "stream",
     "text": [
      "starting e download\n"
     ]
    },
    {
     "name": "stderr",
     "output_type": "stream",
     "text": [
      "2023-10-09 00:21:36,686 INFO Downloading https://download-0013-clone.copernicus-climate.eu/cache-compute-0013/cache/data3/adaptor.mars.internal-1696714968.6795118-6470-7-fd5bd702-0a31-4db2-b058-e271ece88003.nc to 2021_e.nc (12.7G)\n",
      "100%|█████████▉| 12.6G/12.7G [1:49:49<00:11, 2.91MB/s]  "
     ]
    }
   ],
   "source": [
    "#var_list = ['runoff', 'sub_surface_runoff', 'surface_runoff', 'sea_surface_temperature', 'surface_latent_heat_flux', \n",
    "#            'surface_net_solar_radiation', 'surface_net_thermal_radiation', 'surface_sensible_heat_flux', \n",
    "#            'surface_solar_radiation_downwards', 'surface_thermal_radiation_downwards', 'e',]\n",
    "\n",
    "var_list = ['surface_sensible_heat_flux', 'surface_solar_radiation_downwards', 'surface_thermal_radiation_downwards', 'e',]\n",
    "\n",
    "for i in var_list:\n",
    "    print(f'starting {i} download')\n",
    "    c.retrieve(\n",
    "        'reanalysis-era5-single-levels',\n",
    "        {\n",
    "            'product_type': 'reanalysis',\n",
    "            'variable': [\n",
    "                i, \n",
    "            ],\n",
    "            'year': ['2021'],\n",
    "            'month': [\n",
    "                '01', '02', '03',\n",
    "                '04', '05', '06',\n",
    "                '07', '08', '09',\n",
    "            ],\n",
    "            'day': [\n",
    "                '01', '02', '03',\n",
    "                '04', '05', '06',\n",
    "                '07', '08', '09',\n",
    "                '10', '11', '12',\n",
    "                '13', '14', '15',\n",
    "                '16', '17', '18',\n",
    "                '19', '20', '21',\n",
    "                '22', '23', '24',\n",
    "                '25', '26', '27',\n",
    "                '28', '29', '30',\n",
    "                '31',\n",
    "            ],\n",
    "            'time': [\n",
    "                '00:00', '01:00', '02:00',\n",
    "                '03:00', '04:00', '05:00',\n",
    "                '06:00', '07:00', '08:00',\n",
    "                '09:00', '10:00', '11:00',\n",
    "                '12:00', '13:00', '14:00',\n",
    "                '15:00', '16:00', '17:00',\n",
    "                '18:00', '19:00', '20:00',\n",
    "                '21:00', '22:00', '23:00',\n",
    "            ],\n",
    "            'format': 'netcdf',\n",
    "        },\n",
    "        f'2021_{i}.nc')"
   ]
  },
  {
   "cell_type": "code",
   "execution_count": null,
   "id": "1d8cafaf-96c6-4204-a394-00c3b2ad6c32",
   "metadata": {},
   "outputs": [],
   "source": [
    "'runoff', 'sub_surface_runoff', 'surface_runoff', 'sea_surface_temperature', 'surface_latent_heat_flux', \n",
    "'surface_net_solar_radiation', 'surface_net_thermal_radiation', 'surface_sensible_heat_flux', \n",
    "'surface_solar_radiation_downwards', 'surface_thermal_radiation_downwards',"
   ]
  },
  {
   "cell_type": "raw",
   "id": "fcaaffac-5167-4b64-96bc-4563fc63034b",
   "metadata": {
    "tags": []
   },
   "source": [
    "c = cdsapi.Client()\n",
    "\n",
    "c.retrieve(\"reanalysis-era5-complete\", {\n",
    "    \"class\": \"ea\",\n",
    "    \"dataset\": \"era5\",\n",
    "    \"date\": \"2023-01-01/to/2023-09-15\",\n",
    "    \"expver\": \"1\",\n",
    "    \"levtype\": \"sfc\",\n",
    "    #\"number\": \"0\",\n",
    "    \"param\": \"8.128/34.128/45.128/146.128/147.128/165.128/166.128/169.128/175.128/176.128/177.128/182.128/205.128/228.128/231.128\",\n",
    "    \"stream\": \"enda\",\n",
    "    \"time\": \"00:00:00/03:00:00/06:00:00/09:00:00/12:00:00/15:00:00/18:00:00/21:00:00\",\n",
    "    \"type\": \"an\"\n",
    "}, \"output\")"
   ]
  },
  {
   "cell_type": "code",
   "execution_count": null,
   "id": "360ee4ca-ae44-4226-827b-9ecd8d21f5d4",
   "metadata": {},
   "outputs": [],
   "source": []
  }
 ],
 "metadata": {
  "kernelspec": {
   "display_name": "Python 3 (ipykernel)",
   "language": "python",
   "name": "python3"
  },
  "language_info": {
   "codemirror_mode": {
    "name": "ipython",
    "version": 3
   },
   "file_extension": ".py",
   "mimetype": "text/x-python",
   "name": "python",
   "nbconvert_exporter": "python",
   "pygments_lexer": "ipython3",
   "version": "3.10.12"
  }
 },
 "nbformat": 4,
 "nbformat_minor": 5
}
