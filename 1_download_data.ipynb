{
 "cells": [
  {
   "cell_type": "markdown",
   "id": "8808e45c-427a-4ddb-bbb9-2f838980b6c1",
   "metadata": {},
   "source": [
    "# ERA5 - download data\n",
    "From this [website](https://cds.climate.copernicus.eu/cdsapp#!/dataset/reanalysis-era5-pressure-levels?tab=overview). Follow their instructions on how to [install their CDS API](https://cds.climate.copernicus.eu/api-how-to) and then copy/paste the Python \"MARSREQUEST\" code into this notebook to download the relevant variables for your budget in netcdf format."
   ]
  },
  {
   "cell_type": "code",
   "execution_count": 1,
   "id": "fc23a0e8-8c76-410b-b978-d1b9ce4e5f5c",
   "metadata": {
    "tags": []
   },
   "outputs": [],
   "source": [
    "import cdsapi\n",
    "\n",
    "c = cdsapi.Client()"
   ]
  },
  {
   "cell_type": "code",
   "execution_count": null,
   "id": "6f2ca25e-fd5c-476d-9e97-256d200310cb",
   "metadata": {
    "tags": []
   },
   "outputs": [
    {
     "name": "stdout",
     "output_type": "stream",
     "text": [
      "starting runoff download\n"
     ]
    },
    {
     "name": "stderr",
     "output_type": "stream",
     "text": [
      "2023-10-05 19:40:37,197 INFO Welcome to the CDS\n",
      "2023-10-05 19:40:37,197 INFO Sending request to https://cds.climate.copernicus.eu/api/v2/resources/reanalysis-era5-single-levels\n",
      "2023-10-05 19:40:37,386 INFO Request is queued\n",
      "2023-10-05 19:40:38,521 INFO Request is running\n"
     ]
    }
   ],
   "source": [
    "var_list = ['runoff', 'sub_surface_runoff', 'surface_runoff', 'sea_surface_temperature', 'surface_latent_heat_flux', \n",
    "            'surface_net_solar_radiation', 'surface_net_thermal_radiation', 'surface_sensible_heat_flux', \n",
    "            'surface_solar_radiation_downwards', 'surface_thermal_radiation_downwards', 'evap',]\n",
    "\n",
    "for i in var_list:\n",
    "    print(f'starting {i} download')\n",
    "    c.retrieve(\n",
    "        'reanalysis-era5-single-levels',\n",
    "        {\n",
    "            'product_type': 'reanalysis',\n",
    "            'variable': [\n",
    "                i, \n",
    "            ],\n",
    "            'year': [\n",
    "                '2018', '2019', '2020', '2021', '2022',\n",
    "            ],\n",
    "            'month': [\n",
    "                '01', '02', '03',\n",
    "                '04', '05', '06',\n",
    "                '07', '08', '09',\n",
    "            ],\n",
    "            'day': [\n",
    "                '01', '02', '03',\n",
    "                '04', '05', '06',\n",
    "                '07', '08', '09',\n",
    "                '10', '11', '12',\n",
    "                '13', '14', '15',\n",
    "                '16', '17', '18',\n",
    "                '19', '20', '21',\n",
    "                '22', '23', '24',\n",
    "                '25', '26', '27',\n",
    "                '28', '29', '30',\n",
    "                '31',\n",
    "            ],\n",
    "            'time': [\n",
    "                '00:00', '01:00', '02:00',\n",
    "                '03:00', '04:00', '05:00',\n",
    "                '06:00', '07:00', '08:00',\n",
    "                '09:00', '10:00', '11:00',\n",
    "                '12:00', '13:00', '14:00',\n",
    "                '15:00', '16:00', '17:00',\n",
    "                '18:00', '19:00', '20:00',\n",
    "                '21:00', '22:00', '23:00',\n",
    "            ],\n",
    "            'format': 'netcdf',\n",
    "        },\n",
    "        f'2022_{i}.nc')"
   ]
  },
  {
   "cell_type": "code",
   "execution_count": null,
   "id": "1d8cafaf-96c6-4204-a394-00c3b2ad6c32",
   "metadata": {},
   "outputs": [],
   "source": [
    "'runoff', 'sub_surface_runoff', 'surface_runoff', 'sea_surface_temperature', 'surface_latent_heat_flux', \n",
    "'surface_net_solar_radiation', 'surface_net_thermal_radiation', 'surface_sensible_heat_flux', \n",
    "'surface_solar_radiation_downwards', 'surface_thermal_radiation_downwards',"
   ]
  },
  {
   "cell_type": "raw",
   "id": "fcaaffac-5167-4b64-96bc-4563fc63034b",
   "metadata": {
    "tags": []
   },
   "source": [
    "c = cdsapi.Client()\n",
    "\n",
    "c.retrieve(\"reanalysis-era5-complete\", {\n",
    "    \"class\": \"ea\",\n",
    "    \"dataset\": \"era5\",\n",
    "    \"date\": \"2023-01-01/to/2023-09-15\",\n",
    "    \"expver\": \"1\",\n",
    "    \"levtype\": \"sfc\",\n",
    "    #\"number\": \"0\",\n",
    "    \"param\": \"8.128/34.128/45.128/146.128/147.128/165.128/166.128/169.128/175.128/176.128/177.128/182.128/205.128/228.128/231.128\",\n",
    "    \"stream\": \"enda\",\n",
    "    \"time\": \"00:00:00/03:00:00/06:00:00/09:00:00/12:00:00/15:00:00/18:00:00/21:00:00\",\n",
    "    \"type\": \"an\"\n",
    "}, \"output\")"
   ]
  },
  {
   "cell_type": "code",
   "execution_count": null,
   "id": "360ee4ca-ae44-4226-827b-9ecd8d21f5d4",
   "metadata": {},
   "outputs": [],
   "source": []
  }
 ],
 "metadata": {
  "kernelspec": {
   "display_name": "Python 3 (ipykernel)",
   "language": "python",
   "name": "python3"
  },
  "language_info": {
   "codemirror_mode": {
    "name": "ipython",
    "version": 3
   },
   "file_extension": ".py",
   "mimetype": "text/x-python",
   "name": "python",
   "nbconvert_exporter": "python",
   "pygments_lexer": "ipython3",
   "version": "3.10.12"
  }
 },
 "nbformat": 4,
 "nbformat_minor": 5
}
